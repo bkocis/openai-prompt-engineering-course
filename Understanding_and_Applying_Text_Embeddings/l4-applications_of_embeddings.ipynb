{
 "cells": [
  {
   "cell_type": "markdown",
   "id": "c80fa38f",
   "metadata": {},
   "source": [
    "## Lesson 4: Applications of Embeddings\n",
    "\n",
    "#### Project environment setup"
   ]
  },
  {
   "cell_type": "code",
   "execution_count": null,
   "id": "2ca2d448",
   "metadata": {},
   "outputs": [],
   "source": [
    "# Load credentials and relevant Python Libraries\n",
    "\n",
    "from utils import authenticate\n",
    "credentials, PROJECT_ID = authenticate()\n",
    "\n",
    "REGION = 'us-central1'\n",
    "\n",
    "import vertexai\n",
    "vertexai.init(project=PROJECT_ID, \n",
    "              location=REGION, \n",
    "              credentials = credentials)"
   ]
  },
  {
   "cell_type": "code",
   "execution_count": null,
   "id": "bb3a4e1c",
   "metadata": {},
   "outputs": [],
   "source": [
    "#### Load Stack Overflow questions and answers from BigQuery\n",
    "# BigQuery is Google Cloud's serverless data warehouse.\n",
    "# We'll get the first 500 posts (questions and answers) for each programming language: Python, HTML, R, and CSS.\n",
    "\n",
    "from google.cloud import bigquery\n",
    "import pandas as pd"
   ]
  },
  {
   "cell_type": "code",
   "execution_count": null,
   "id": "f3e517be",
   "metadata": {},
   "outputs": [],
   "source": [
    "def run_bq_query(sql):\n",
    "\n",
    "    # Create BQ client\n",
    "    bq_client = bigquery.Client(project = PROJECT_ID, \n",
    "                                credentials = credentials)\n",
    "\n",
    "    # Try dry run before executing query to catch any errors\n",
    "    job_config = bigquery.QueryJobConfig(dry_run=True, \n",
    "                                         use_query_cache=False)\n",
    "    bq_client.query(sql, job_config=job_config)\n",
    "\n",
    "    # If dry run succeeds without errors, proceed to run query\n",
    "    job_config = bigquery.QueryJobConfig()\n",
    "    client_result = bq_client.query(sql, \n",
    "                                    job_config=job_config)\n",
    "\n",
    "    job_id = client_result.job_id\n",
    "\n",
    "    # Wait for query/job to finish running. then get & return data frame\n",
    "    df = client_result.result().to_arrow().to_pandas()\n",
    "    print(f\"Finished job_id: {job_id}\")\n",
    "    return df"
   ]
  },
  {
   "cell_type": "code",
   "execution_count": null,
   "id": "fff3db94",
   "metadata": {},
   "outputs": [],
   "source": [
    "# define list of programming language tags we want to query\n",
    "\n",
    "language_list = [\"python\", \"html\", \"r\", \"css\"]\n",
    "\n",
    "so_df = pd.DataFrame()\n",
    "\n",
    "for language in language_list:\n",
    "    \n",
    "    print(f\"generating {language} dataframe\")\n",
    "    \n",
    "    query = f\"\"\"\n",
    "    SELECT\n",
    "        CONCAT(q.title, q.body) as input_text,\n",
    "        a.body AS output_text\n",
    "    FROM\n",
    "        `bigquery-public-data.stackoverflow.posts_questions` q\n",
    "    JOIN\n",
    "        `bigquery-public-data.stackoverflow.posts_answers` a\n",
    "    ON\n",
    "        q.accepted_answer_id = a.id\n",
    "    WHERE \n",
    "        q.accepted_answer_id IS NOT NULL AND \n",
    "        REGEXP_CONTAINS(q.tags, \"{language}\") AND\n",
    "        a.creation_date >= \"2020-01-01\"\n",
    "    LIMIT \n",
    "        500\n",
    "    \"\"\"\n",
    "\n",
    "    \n",
    "    language_df = run_bq_query(query)\n",
    "    language_df[\"category\"] = language\n",
    "    so_df = pd.concat([so_df, language_df], \n",
    "                      ignore_index = True) "
   ]
  },
  {
   "cell_type": "code",
   "execution_count": null,
   "id": "36ab4d93",
   "metadata": {},
   "outputs": [],
   "source": [
    "# You can reuse the above code to run your own queries if you are using Google Cloud's BigQuery service.\n",
    "# In this classroom, if you run into any issues, you can load the same data from a csv file.\n",
    "\n",
    "# Run this cell if you get any errors or you don't want to wait for the query to be completed\n",
    "# so_df = pd.read_csv('so_database_app.csv')\n",
    "\n",
    "so_df"
   ]
  },
  {
   "cell_type": "code",
   "execution_count": null,
   "id": "42cf6b14",
   "metadata": {},
   "outputs": [],
   "source": [
    "#### Generate text embeddings\n",
    "# To generate embeddings for a dataset of texts, we'll need to group the sentences together in batches and send batches of texts to the model.\n",
    "# The API currently can take batches of up to 5 pieces of text per API call.\n",
    "\n",
    "from vertexai.language_models import TextEmbeddingModel\n",
    "\n",
    "model = TextEmbeddingModel.from_pretrained(\n",
    "    \"textembedding-gecko@001\")"
   ]
  },
  {
   "cell_type": "code",
   "execution_count": null,
   "id": "758bc53b",
   "metadata": {},
   "outputs": [],
   "source": [
    "import time\n",
    "import numpy as np\n",
    "\n",
    "# Generator function to yield batches of sentences\n",
    "\n",
    "def generate_batches(sentences, batch_size = 5):\n",
    "    for i in range(0, len(sentences), batch_size):\n",
    "        yield sentences[i : i + batch_size]"
   ]
  },
  {
   "cell_type": "code",
   "execution_count": null,
   "id": "65fbc6d3",
   "metadata": {},
   "outputs": [],
   "source": [
    "so_questions = so_df[0:200].input_text.tolist() \n",
    "batches = generate_batches(sentences = so_questions)\n",
    "\n",
    "batch = next(batches)\n",
    "len(batch)"
   ]
  },
  {
   "cell_type": "code",
   "execution_count": null,
   "id": "48c13705",
   "metadata": {},
   "outputs": [],
   "source": [
    "#### Get embeddings on a batch of data\n",
    "# This helper function calls `model.get_embeddings()` on the batch of data, and returns a list containing the embeddings for each text in that batch.\n",
    "\n",
    "def encode_texts_to_embeddings(sentences):\n",
    "    try:\n",
    "        embeddings = model.get_embeddings(sentences)\n",
    "        return [embedding.values for embedding in embeddings]\n",
    "    except Exception:\n",
    "        return [None for _ in range(len(sentences))]"
   ]
  },
  {
   "cell_type": "code",
   "execution_count": null,
   "id": "c41e4117",
   "metadata": {},
   "outputs": [],
   "source": [
    "batch_embeddings = encode_texts_to_embeddings(batch)\n",
    "\n",
    "f\"{len(batch_embeddings)} embeddings of size \\\n",
    "{len(batch_embeddings[0])}\"\n"
   ]
  },
  {
   "cell_type": "markdown",
   "id": "5c92f3fd",
   "metadata": {},
   "source": [
    "\n",
    "#### Code for getting data on an entire data set\n",
    "- Most API services have rate limits, so we've provided a helper function (in utils.py) that you could use to wait in-between API calls.\n",
    "- If the code was not designed to wait in-between API calls, you may not receive embeddings for all batches of text.\n",
    "- This particular service can handle 20 calls per minute.  In calls per second, that's 20 calls divided by 60 seconds, or `20/60`.\n",
    "\n",
    "```Python\n",
    "from utils import encode_text_to_embedding_batched\n",
    "\n",
    "so_questions = so_df.input_text.tolist()\n",
    "question_embeddings = encode_text_to_embedding_batched(\n",
    "                            sentences=so_questions,\n",
    "                            api_calls_per_second = 20/60, \n",
    "                            batch_size = 5)\n",
    "```\n",
    "\n",
    "In order to handle limits of this classroom environment, we're not going to run this code to embed all of the data. But you can adapt this code for your own projects and datasets.\n"
   ]
  },
  {
   "cell_type": "code",
   "execution_count": null,
   "id": "c9e5d808",
   "metadata": {},
   "outputs": [],
   "source": [
    "from utils import encode_text_to_embedding_batched\n",
    "\n",
    "so_questions = so_df.input_text.tolist()\n",
    "question_embeddings = encode_text_to_embedding_batched(\n",
    "                            sentences=so_questions,\n",
    "                            api_calls_per_second = 20/60, \n",
    "                            batch_size = 5)"
   ]
  },
  {
   "cell_type": "code",
   "execution_count": null,
   "id": "9f2b275b",
   "metadata": {},
   "outputs": [],
   "source": [
    "#### Load the data from file\n",
    "# We'll load the stack overflow questions, answers, and category labels (Python, HTML, R, CSS) from a .csv file.\n",
    "# We'll load the embeddings of the questions (which we've precomputed with batched calls to `model.get_embeddings()`), from a pickle file.\n",
    "\n",
    "so_df = pd.read_csv('so_database_app.csv')\n",
    "so_df.head()\n"
   ]
  },
  {
   "cell_type": "code",
   "execution_count": null,
   "id": "d6b3a7f0",
   "metadata": {},
   "outputs": [],
   "source": [
    "import pickle\n",
    "\n",
    "with open('question_embeddings_app.pkl', 'rb') as file:\n",
    "    question_embeddings = pickle.load(file)"
   ]
  },
  {
   "cell_type": "code",
   "execution_count": null,
   "id": "8d58654d",
   "metadata": {},
   "outputs": [],
   "source": [
    "print(\"Shape: \" + str(question_embeddings.shape))\n",
    "print(question_embeddings)"
   ]
  },
  {
   "cell_type": "code",
   "execution_count": null,
   "id": "db24bbd4",
   "metadata": {},
   "outputs": [],
   "source": [
    "#### Cluster the embeddings of the Stack Overflow questions\n",
    "\n",
    "from sklearn.cluster import KMeans\n",
    "from sklearn.decomposition import PCA\n",
    "\n",
    "clustering_dataset = question_embeddings[:1000]\n",
    "\n",
    "n_clusters = 2\n",
    "kmeans = KMeans(n_clusters=n_clusters, \n",
    "                random_state=0, \n",
    "                n_init = 'auto').fit(clustering_dataset)\n",
    "\n",
    "kmeans_labels = kmeans.labels_\n",
    "\n",
    "PCA_model = PCA(n_components=2)\n",
    "PCA_model.fit(clustering_dataset)\n",
    "new_values = PCA_model.transform(clustering_dataset)"
   ]
  },
  {
   "cell_type": "code",
   "execution_count": null,
   "id": "392a0ba8",
   "metadata": {},
   "outputs": [],
   "source": [
    "import matplotlib.pyplot as plt\n",
    "import mplcursors\n",
    "%matplotlib ipympl\n",
    "\n",
    "from utils import clusters_2D\n",
    "clusters_2D(x_values = new_values[:,0], y_values = new_values[:,1], \n",
    "            labels = so_df[:1000], kmeans_labels = kmeans_labels)\n",
    "\n",
    "# Clustering is able to identify two distinct clusters of HTML or Python related questions, without being given the category labels (HTML or Python).\n"
   ]
  },
  {
   "cell_type": "code",
   "execution_count": null,
   "id": "75663889",
   "metadata": {},
   "outputs": [],
   "source": [
    "## Anomaly / Outlier detection\n",
    "\n",
    "# We can add an anomalous piece of text and check if the outlier (anomaly) detection algorithm (Isolation Forest) can identify it as an outlier (anomaly), based on its embedding.\n",
    "\n",
    "from sklearn.ensemble import IsolationForest\n",
    "\n",
    "input_text = \"\"\"I am making cookies but don't \n",
    "                remember the correct ingredient proportions. \n",
    "                I have been unable to find \n",
    "                anything on the web.\"\"\"\n",
    "\n",
    "emb = model.get_embeddings([input_text])[0].values\n",
    "\n",
    "embeddings_l = question_embeddings.tolist()\n",
    "embeddings_l.append(emb)\n",
    "\n",
    "embeddings_array = np.array(embeddings_l)"
   ]
  },
  {
   "cell_type": "code",
   "execution_count": null,
   "id": "9854a372",
   "metadata": {},
   "outputs": [],
   "source": [
    "print(\"Shape: \" + str(embeddings_array.shape))\n",
    "print(embeddings_array)"
   ]
  },
  {
   "cell_type": "code",
   "execution_count": null,
   "id": "d6c4bc53",
   "metadata": {},
   "outputs": [],
   "source": [
    "# Add the outlier text to the end of the stack overflow dataframe\n",
    "so_df = pd.read_csv('so_database_app.csv')\n",
    "new_row = pd.Series([input_text, None, \"baking\"], \n",
    "                    index=so_df.columns)\n",
    "so_df.loc[len(so_df)+1] = new_row\n",
    "so_df.tail()"
   ]
  },
  {
   "cell_type": "code",
   "execution_count": null,
   "id": "f8cc8ca9",
   "metadata": {},
   "outputs": [],
   "source": [
    "#### Use Isolation Forest to identify potential outliers\n",
    "\n",
    "- `IsolationForest` classifier will predict `-1` for potential outliers, and `1` for non-outliers.\n",
    "- You can inspect the rows that were predicted to be potential outliers and verify that the question about baking is predicted to be an outlier.\n",
    "\n",
    "clf = IsolationForest(contamination=0.005, \n",
    "                      random_state = 2) \n",
    "\n",
    "preds = clf.fit_predict(embeddings_array)\n",
    "\n",
    "print(f\"{len(preds)} predictions. Set of possible values: {set(preds)}\")\n",
    "\n",
    "so_df.loc[preds == -1]"
   ]
  },
  {
   "cell_type": "code",
   "execution_count": null,
   "id": "8496701a",
   "metadata": {},
   "outputs": [],
   "source": [
    "#### Remove the outlier about baking\n",
    "\n",
    "so_df = so_df.drop(so_df.index[-1])\n",
    "\n",
    "so_df"
   ]
  },
  {
   "cell_type": "code",
   "execution_count": null,
   "id": "520475dd",
   "metadata": {},
   "outputs": [],
   "source": [
    "## Classification\n",
    "# Train a random forest model to classify the category of a Stack Overflow question (as either Python, R, HTML or CSS).\n",
    "\n",
    "from sklearn.ensemble import RandomForestClassifier\n",
    "\n",
    "from sklearn.metrics import accuracy_score\n",
    "from sklearn.model_selection import train_test_split\n",
    "\n"
   ]
  },
  {
   "cell_type": "code",
   "execution_count": null,
   "id": "c24cce72",
   "metadata": {},
   "outputs": [],
   "source": [
    "# re-load the dataset from file\n",
    "so_df = pd.read_csv('so_database_app.csv')\n",
    "X = question_embeddings\n",
    "X.shape\n",
    "\n",
    "y = so_df['category'].values\n",
    "y.shape\n"
   ]
  },
  {
   "cell_type": "code",
   "execution_count": null,
   "id": "a67445ff",
   "metadata": {},
   "outputs": [],
   "source": [
    "X_train, X_test, y_train, y_test = train_test_split(X, \n",
    "                                                    y, \n",
    "                                                    test_size = 0.2, \n",
    "                                                    random_state = 2)\n",
    "\n",
    "clf = RandomForestClassifier(n_estimators=200)\n",
    "\n",
    "clf.fit(X_train, y_train)\n",
    "\n",
    "#### You can check the predictions on a few questions from the test set\n",
    "\n",
    "y_pred = clf.predict(X_test)\n",
    "\n",
    "accuracy = accuracy_score(y_test, y_pred) # compute accuracy\n",
    "print(\"Accuracy:\", accuracy)"
   ]
  },
  {
   "cell_type": "code",
   "execution_count": null,
   "id": "b8592932",
   "metadata": {},
   "outputs": [],
   "source": [
    "#### Try out the classifier on some questions\n",
    "\n",
    "# choose a number between 0 and 1999\n",
    "i = 2\n",
    "label = so_df.loc[i,'category']\n",
    "question = so_df.loc[i,'input_text']\n",
    "\n",
    "# get the embedding of this question and predict its category\n",
    "question_embedding = model.get_embeddings([question])[0].values\n",
    "pred = clf.predict([question_embedding])\n",
    "\n",
    "print(f\"For question {i}, the prediction is `{pred[0]}`\")\n",
    "print(f\"The actual label is `{label}`\")\n",
    "print(\"The question text is:\")\n",
    "print(\"-\"*50)\n",
    "print(question)"
   ]
  }
 ],
 "metadata": {
  "kernelspec": {
   "display_name": "Python 3 (ipykernel)",
   "language": "python",
   "name": "python3"
  },
  "language_info": {
   "codemirror_mode": {
    "name": "ipython",
    "version": 3
   },
   "file_extension": ".py",
   "mimetype": "text/x-python",
   "name": "python",
   "nbconvert_exporter": "python",
   "pygments_lexer": "ipython3",
   "version": "3.10.12"
  }
 },
 "nbformat": 4,
 "nbformat_minor": 5
}
