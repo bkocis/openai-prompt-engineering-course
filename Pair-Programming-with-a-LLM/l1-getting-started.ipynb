{
 "cells": [
  {
   "cell_type": "markdown",
   "id": "87ca1fe1",
   "metadata": {},
   "source": [
    "# Lesson 1: Getting Started with PaLM"
   ]
  },
  {
   "cell_type": "code",
   "execution_count": null,
   "id": "babcf5f0",
   "metadata": {},
   "outputs": [],
   "source": [
    "#### Setup\n",
    "# Set the MakerSuite API key with the provided helper function.\n",
    "\n",
    "\"\"\"\n",
    "from utils import get_api_key\n",
    "\n",
    "\n",
    "In this classroom, we've installed the relevant libraries for you.\n",
    "\n",
    "If you wanted to use the PaLM API on your own machine, you would first install the library:\n",
    "```Python\n",
    "!pip install -q google.generativeai\n",
    "```\n",
    "The optional flag `-q` installs \"quietly\" without printing out details of the installation.\n",
    "\n",
    "\"\"\""
   ]
  },
  {
   "cell_type": "code",
   "execution_count": null,
   "id": "b9e72cf2",
   "metadata": {},
   "outputs": [],
   "source": [
    "import os\n",
    "import google.generativeai as palm\n",
    "from google.api_core import client_options as client_options_lib\n",
    "\n",
    "palm.configure(\n",
    "    api_key=get_api_key(),\n",
    "    transport=\"rest\",\n",
    "    client_options=client_options_lib.ClientOptions(\n",
    "        api_endpoint=os.getenv(\"GOOGLE_API_BASE\"),\n",
    "    )\n",
    ")"
   ]
  },
  {
   "cell_type": "code",
   "execution_count": null,
   "id": "aeff1302",
   "metadata": {},
   "outputs": [],
   "source": [
    "### Explore the available models\n",
    "\n",
    "for m in palm.list_models():\n",
    "    print(f\"name: {m.name}\")\n",
    "    print(f\"description: {m.description}\")\n",
    "    print(f\"generation methods:{m.supported_generation_methods}\\n\")"
   ]
  },
  {
   "cell_type": "code",
   "execution_count": null,
   "id": "9c07cf6f",
   "metadata": {},
   "outputs": [],
   "source": [
    "#### Filter models by their supported generation methods\n",
    "- `generateText` is currently recommended for coding-related prompts.\n",
    "- `generateMessage` is optimized for multi-turn chats (dialogues) with an LLM.\n",
    "\n",
    "models = [m for m in palm.list_models() \n",
    "          if 'generateText' \n",
    "          in m.supported_generation_methods]\n",
    "models\n",
    "\n",
    "model_bison = models[0]\n",
    "model_bison"
   ]
  },
  {
   "cell_type": "code",
   "execution_count": null,
   "id": "c9cf2822",
   "metadata": {},
   "outputs": [],
   "source": [
    "#### helper function to generate text\n",
    "\n",
    "- The `@retry` decorator helps you to retry the API call if it fails.\n",
    "- We set the temperature to 0.0 so that the model returns the same output (completion) if given the same input (the prompt).\n",
    "\n",
    "from google.api_core import retry\n",
    "@retry.Retry()\n",
    "def generate_text(prompt,\n",
    "                  model=model_bison,\n",
    "                  temperature=0.0):\n",
    "    return palm.generate_text(prompt=prompt,\n",
    "                              model=model,\n",
    "                              temperature=temperature)"
   ]
  },
  {
   "cell_type": "code",
   "execution_count": null,
   "id": "677c5509",
   "metadata": {},
   "outputs": [],
   "source": [
    "#### Ask the LLM how to write some code\n",
    "\n",
    "\n",
    "\n",
    "prompt = \"Show me how to iterate across a list in Python.\"\n",
    "\n",
    "completion = generate_text(prompt)\n",
    "\n",
    "print(completion.result)"
   ]
  },
  {
   "cell_type": "code",
   "execution_count": null,
   "id": "31177680",
   "metadata": {},
   "outputs": [],
   "source": [
    "# Tip: The words \"show me\" tends to encourage the PaLM LLM to give more details and explanations compared to if you were to ask \"write code to ...\"\n",
    "\n",
    "prompt = \"write code to iterate across a list in Python\"\n",
    "\n",
    "completion = generate_text(prompt)\n",
    "print(completion.result)\n"
   ]
  },
  {
   "cell_type": "raw",
   "id": "5c3c4435",
   "metadata": {},
   "source": [
    "#### Try out the code\n",
    "- Try copy-pasting some of the generated code and running it in the notebook.\n",
    "- Remember to test out the LLM-generated code and debug it make sure it works as intended.\n",
    "\n",
    "# paste the LLM's code here\n",
    "\n",
    "\n",
    "\n",
    "\n",
    "#### Try asking your own coding question\n",
    "\n",
    "# Modify the prompt with your own question\n",
    "prompt = \"Show me how to [...]\"\n",
    "\n",
    "completion = generate_text(prompt)\n",
    "\n",
    "\n",
    "\n",
    "#### Note about the API key\n",
    "We've provided an API key for this classroom.  If you would like your own API key for your own projects, you can get one at [developers.generativeai.google](https://developers.generativeai.google/)"
   ]
  }
 ],
 "metadata": {
  "kernelspec": {
   "display_name": "Python 3 (ipykernel)",
   "language": "python",
   "name": "python3"
  },
  "language_info": {
   "codemirror_mode": {
    "name": "ipython",
    "version": 3
   },
   "file_extension": ".py",
   "mimetype": "text/x-python",
   "name": "python",
   "nbconvert_exporter": "python",
   "pygments_lexer": "ipython3",
   "version": "3.10.12"
  }
 },
 "nbformat": 4,
 "nbformat_minor": 5
}
